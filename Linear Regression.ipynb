{
 "cells": [
  {
   "cell_type": "code",
   "execution_count": 15,
   "metadata": {
    "collapsed": true
   },
   "outputs": [],
   "source": [
    "import pandas as pd\n",
    "import numpy as np\n",
    "import csv\n",
    "import matplotlib.pyplot as plt\n",
    "import statsmodels.formula.api as smf\n",
    "from sklearn import linear_model"
   ]
  },
  {
   "cell_type": "code",
   "execution_count": 11,
   "metadata": {
    "collapsed": false
   },
   "outputs": [
    {
     "name": "stdout",
     "output_type": "stream",
     "text": [
      "['X1', 'X2', 'X3', 'X4', 'X5', 'X6', 'X7']\n",
      "['478', '184', '40', '74', '11', '31', '20']\n",
      "['494', '213', '32', '72', '11', '43', '18']\n",
      "['643', '347', '57', '70', '18', '16', '16']\n",
      "['341', '565', '31', '71', '11', '25', '19']\n",
      "['773', '327', '67', '72', '9', '29', '24']\n",
      "['603', '260', '25', '68', '8', '32', '15']\n",
      "['484', '325', '34', '68', '12', '24', '14']\n",
      "['546', '102', '33', '62', '13', '28', '11']\n",
      "['424', '38', '36', '69', '7', '25', '12']\n",
      "['548', '226', '31', '66', '9', '58', '15']\n",
      "['506', '137', '35', '60', '13', '21', '9']\n",
      "['819', '369', '30', '81', '4', '77', '36']\n",
      "['541', '109', '44', '66', '9', '37', '12']\n",
      "['491', '809', '32', '67', '11', '37', '16']\n",
      "['514', '29', '30', '65', '12', '35', '11']\n",
      "['371', '245', '16', '64', '10', '42', '14']\n",
      "['457', '118', '29', '64', '12', '21', '10']\n",
      "['437', '148', '36', '62', '7', '81', '27']\n",
      "['570', '387', '30', '59', '15', '31', '16']\n",
      "['432', '98', '23', '56', '15', '50', '15']\n",
      "['619', '608', '33', '46', '22', '24', '8']\n",
      "['357', '218', '35', '54', '14', '27', '13']\n",
      "['623', '254', '38', '54', '20', '22', '11']\n",
      "['547', '697', '44', '45', '26', '18', '8']\n",
      "['792', '827', '28', '57', '12', '23', '11']\n",
      "['799', '693', '35', '57', '9', '60', '18']\n",
      "['439', '448', '31', '61', '19', '14', '12']\n",
      "['867', '942', '39', '52', '17', '31', '10']\n",
      "['912', '1017', '27', '44', '21', '24', '9']\n",
      "['462', '216', '36', '43', '18', '23', '8']\n",
      "['859', '673', '38', '48', '19', '22', '10']\n",
      "['805', '989', '46', '57', '14', '25', '12']\n",
      "['652', '630', '29', '47', '19', '25', '9']\n",
      "['776', '404', '32', '50', '19', '21', '9']\n",
      "['919', '692', '39', '48', '16', '32', '11']\n",
      "['732', '1517', '44', '49', '13', '31', '14']\n",
      "['657', '879', '33', '72', '13', '13', '22']\n",
      "['1419', '631', '43', '59', '14', '21', '13']\n",
      "['989', '1375', '22', '49', '9', '46', '13']\n",
      "['821', '1139', '30', '54', '13', '27', '12']\n",
      "['1740', '3545', '86', '62', '22', '18', '15']\n",
      "['815', '706', '30', '47', '17', '39', '11']\n",
      "['760', '451', '32', '45', '34', '15', '10']\n",
      "['936', '433', '43', '48', '26', '23', '12']\n",
      "['863', '601', '20', '69', '23', '7', '12']\n",
      "['783', '1024', '55', '42', '23', '23', '11']\n",
      "['715', '457', '44', '49', '18', '30', '12']\n",
      "['1504', '1441', '37', '57', '15', '35', '13']\n",
      "['1324', '1022', '82', '72', '22', '15', '16']\n",
      "['940', '1244', '66', '67', '26', '18', '16']\n"
     ]
    }
   ],
   "source": [
    "with open('mlr06.csv', 'rU') as fp:\n",
    "    data = csv.reader(fp)\n",
    "    for row in data:\n",
    "        print row"
   ]
  },
  {
   "cell_type": "code",
   "execution_count": 5,
   "metadata": {
    "collapsed": false
   },
   "outputs": [],
   "source": [
    "data = pd.read_csv('mlr06.csv')"
   ]
  },
  {
   "cell_type": "code",
   "execution_count": 6,
   "metadata": {
    "collapsed": false
   },
   "outputs": [
    {
     "data": {
      "text/html": [
       "<div>\n",
       "<table border=\"1\" class=\"dataframe\">\n",
       "  <thead>\n",
       "    <tr style=\"text-align: right;\">\n",
       "      <th></th>\n",
       "      <th>X1</th>\n",
       "      <th>X2</th>\n",
       "      <th>X3</th>\n",
       "      <th>X4</th>\n",
       "      <th>X5</th>\n",
       "      <th>X6</th>\n",
       "      <th>X7</th>\n",
       "    </tr>\n",
       "  </thead>\n",
       "  <tbody>\n",
       "    <tr>\n",
       "      <th>0</th>\n",
       "      <td>478</td>\n",
       "      <td>184</td>\n",
       "      <td>40</td>\n",
       "      <td>74</td>\n",
       "      <td>11</td>\n",
       "      <td>31</td>\n",
       "      <td>20</td>\n",
       "    </tr>\n",
       "    <tr>\n",
       "      <th>1</th>\n",
       "      <td>494</td>\n",
       "      <td>213</td>\n",
       "      <td>32</td>\n",
       "      <td>72</td>\n",
       "      <td>11</td>\n",
       "      <td>43</td>\n",
       "      <td>18</td>\n",
       "    </tr>\n",
       "    <tr>\n",
       "      <th>2</th>\n",
       "      <td>643</td>\n",
       "      <td>347</td>\n",
       "      <td>57</td>\n",
       "      <td>70</td>\n",
       "      <td>18</td>\n",
       "      <td>16</td>\n",
       "      <td>16</td>\n",
       "    </tr>\n",
       "    <tr>\n",
       "      <th>3</th>\n",
       "      <td>341</td>\n",
       "      <td>565</td>\n",
       "      <td>31</td>\n",
       "      <td>71</td>\n",
       "      <td>11</td>\n",
       "      <td>25</td>\n",
       "      <td>19</td>\n",
       "    </tr>\n",
       "    <tr>\n",
       "      <th>4</th>\n",
       "      <td>773</td>\n",
       "      <td>327</td>\n",
       "      <td>67</td>\n",
       "      <td>72</td>\n",
       "      <td>9</td>\n",
       "      <td>29</td>\n",
       "      <td>24</td>\n",
       "    </tr>\n",
       "  </tbody>\n",
       "</table>\n",
       "</div>"
      ],
      "text/plain": [
       "    X1   X2  X3  X4  X5  X6  X7\n",
       "0  478  184  40  74  11  31  20\n",
       "1  494  213  32  72  11  43  18\n",
       "2  643  347  57  70  18  16  16\n",
       "3  341  565  31  71  11  25  19\n",
       "4  773  327  67  72   9  29  24"
      ]
     },
     "execution_count": 6,
     "metadata": {},
     "output_type": "execute_result"
    }
   ],
   "source": [
    "data.head()"
   ]
  },
  {
   "cell_type": "markdown",
   "metadata": {
    "collapsed": false
   },
   "source": [
    "The data (X1, X2, X3, X4, X5, X6, X7) are for each city.\n",
    "\n",
    "*  X1 = total overall reported crime rate per 1 million residents\n",
    "*  X2 = reported violent crime rate per 100,000 residents\n",
    "*  X3 = annual police funding in \\$/resident\n",
    "*  X4 = % of people 25 years+ with 4 yrs. of high school\n",
    "*  X5 = % of 16 to 19 year-olds not in highschool and not highschool graduates\n",
    "*  X6 = % of 18 to 24 year-olds in college\n",
    "*  X7 = % of people 25 years+ with at least 4 years of college"
   ]
  },
  {
   "cell_type": "code",
   "execution_count": 15,
   "metadata": {
    "collapsed": false
   },
   "outputs": [
    {
     "data": {
      "text/plain": [
       "(50, 7)"
      ]
     },
     "execution_count": 15,
     "metadata": {},
     "output_type": "execute_result"
    }
   ],
   "source": [
    "data.shape"
   ]
  },
  {
   "cell_type": "code",
   "execution_count": 18,
   "metadata": {
    "collapsed": false
   },
   "outputs": [
    {
     "data": {
      "text/plain": [
       "Intercept    100.393612\n",
       "X2             0.332336\n",
       "X3             3.998174\n",
       "X4             1.857912\n",
       "X5             7.838861\n",
       "X6             2.558769\n",
       "X7            -3.231162\n",
       "dtype: float64"
      ]
     },
     "execution_count": 18,
     "metadata": {},
     "output_type": "execute_result"
    }
   ],
   "source": [
    "# create a fitted model with all three features\n",
    "lm = smf.ols(formula='X1 ~ X2 + X3 + X4 + X5 + X6 + X7', data=data).fit()\n",
    "\n",
    "# print the coefficients\n",
    "lm.params"
   ]
  },
  {
   "cell_type": "code",
   "execution_count": 22,
   "metadata": {
    "collapsed": false
   },
   "outputs": [
    {
     "data": {
      "text/html": [
       "<table class=\"simpletable\">\n",
       "<caption>OLS Regression Results</caption>\n",
       "<tr>\n",
       "  <th>Dep. Variable:</th>           <td>X1</td>        <th>  R-squared:         </th> <td>   0.613</td>\n",
       "</tr>\n",
       "<tr>\n",
       "  <th>Model:</th>                   <td>OLS</td>       <th>  Adj. R-squared:    </th> <td>   0.559</td>\n",
       "</tr>\n",
       "<tr>\n",
       "  <th>Method:</th>             <td>Least Squares</td>  <th>  F-statistic:       </th> <td>   11.36</td>\n",
       "</tr>\n",
       "<tr>\n",
       "  <th>Date:</th>             <td>Thu, 14 Apr 2016</td> <th>  Prob (F-statistic):</th> <td>1.42e-07</td>\n",
       "</tr>\n",
       "<tr>\n",
       "  <th>Time:</th>                 <td>22:05:13</td>     <th>  Log-Likelihood:    </th> <td> -330.87</td>\n",
       "</tr>\n",
       "<tr>\n",
       "  <th>No. Observations:</th>      <td>    50</td>      <th>  AIC:               </th> <td>   675.7</td>\n",
       "</tr>\n",
       "<tr>\n",
       "  <th>Df Residuals:</th>          <td>    43</td>      <th>  BIC:               </th> <td>   689.1</td>\n",
       "</tr>\n",
       "<tr>\n",
       "  <th>Df Model:</th>              <td>     6</td>      <th>                     </th>     <td> </td>   \n",
       "</tr>\n",
       "<tr>\n",
       "  <th>Covariance Type:</th>      <td>nonrobust</td>    <th>                     </th>     <td> </td>   \n",
       "</tr>\n",
       "</table>\n",
       "<table class=\"simpletable\">\n",
       "<tr>\n",
       "      <td></td>         <th>coef</th>     <th>std err</th>      <th>t</th>      <th>P>|t|</th> <th>[95.0% Conf. Int.]</th> \n",
       "</tr>\n",
       "<tr>\n",
       "  <th>Intercept</th> <td>  100.3936</td> <td>  370.693</td> <td>    0.271</td> <td> 0.788</td> <td> -647.180   847.968</td>\n",
       "</tr>\n",
       "<tr>\n",
       "  <th>X2</th>        <td>    0.3323</td> <td>    0.060</td> <td>    5.574</td> <td> 0.000</td> <td>    0.212     0.453</td>\n",
       "</tr>\n",
       "<tr>\n",
       "  <th>X3</th>        <td>    3.9982</td> <td>    2.682</td> <td>    1.490</td> <td> 0.143</td> <td>   -1.412     9.408</td>\n",
       "</tr>\n",
       "<tr>\n",
       "  <th>X4</th>        <td>    1.8579</td> <td>    5.241</td> <td>    0.355</td> <td> 0.725</td> <td>   -8.711    12.427</td>\n",
       "</tr>\n",
       "<tr>\n",
       "  <th>X5</th>        <td>    7.8389</td> <td>    7.760</td> <td>    1.010</td> <td> 0.318</td> <td>   -7.810    23.488</td>\n",
       "</tr>\n",
       "<tr>\n",
       "  <th>X6</th>        <td>    2.5588</td> <td>    3.427</td> <td>    0.747</td> <td> 0.459</td> <td>   -4.352     9.470</td>\n",
       "</tr>\n",
       "<tr>\n",
       "  <th>X7</th>        <td>   -3.2312</td> <td>   10.715</td> <td>   -0.302</td> <td> 0.764</td> <td>  -24.841    18.378</td>\n",
       "</tr>\n",
       "</table>\n",
       "<table class=\"simpletable\">\n",
       "<tr>\n",
       "  <th>Omnibus:</th>       <td>23.696</td> <th>  Durbin-Watson:     </th> <td>   1.860</td>\n",
       "</tr>\n",
       "<tr>\n",
       "  <th>Prob(Omnibus):</th> <td> 0.000</td> <th>  Jarque-Bera (JB):  </th> <td>  43.825</td>\n",
       "</tr>\n",
       "<tr>\n",
       "  <th>Skew:</th>          <td> 1.411</td> <th>  Prob(JB):          </th> <td>3.04e-10</td>\n",
       "</tr>\n",
       "<tr>\n",
       "  <th>Kurtosis:</th>      <td> 6.615</td> <th>  Cond. No.          </th> <td>1.13e+04</td>\n",
       "</tr>\n",
       "</table>"
      ],
      "text/plain": [
       "<class 'statsmodels.iolib.summary.Summary'>\n",
       "\"\"\"\n",
       "                            OLS Regression Results                            \n",
       "==============================================================================\n",
       "Dep. Variable:                     X1   R-squared:                       0.613\n",
       "Model:                            OLS   Adj. R-squared:                  0.559\n",
       "Method:                 Least Squares   F-statistic:                     11.36\n",
       "Date:                Thu, 14 Apr 2016   Prob (F-statistic):           1.42e-07\n",
       "Time:                        22:05:13   Log-Likelihood:                -330.87\n",
       "No. Observations:                  50   AIC:                             675.7\n",
       "Df Residuals:                      43   BIC:                             689.1\n",
       "Df Model:                           6                                         \n",
       "Covariance Type:            nonrobust                                         \n",
       "==============================================================================\n",
       "                 coef    std err          t      P>|t|      [95.0% Conf. Int.]\n",
       "------------------------------------------------------------------------------\n",
       "Intercept    100.3936    370.693      0.271      0.788      -647.180   847.968\n",
       "X2             0.3323      0.060      5.574      0.000         0.212     0.453\n",
       "X3             3.9982      2.682      1.490      0.143        -1.412     9.408\n",
       "X4             1.8579      5.241      0.355      0.725        -8.711    12.427\n",
       "X5             7.8389      7.760      1.010      0.318        -7.810    23.488\n",
       "X6             2.5588      3.427      0.747      0.459        -4.352     9.470\n",
       "X7            -3.2312     10.715     -0.302      0.764       -24.841    18.378\n",
       "==============================================================================\n",
       "Omnibus:                       23.696   Durbin-Watson:                   1.860\n",
       "Prob(Omnibus):                  0.000   Jarque-Bera (JB):               43.825\n",
       "Skew:                           1.411   Prob(JB):                     3.04e-10\n",
       "Kurtosis:                       6.615   Cond. No.                     1.13e+04\n",
       "==============================================================================\n",
       "\n",
       "Warnings:\n",
       "[1] Standard Errors assume that the covariance matrix of the errors is correctly specified.\n",
       "[2] The condition number is large, 1.13e+04. This might indicate that there are\n",
       "strong multicollinearity or other numerical problems.\n",
       "\"\"\""
      ]
     },
     "execution_count": 22,
     "metadata": {},
     "output_type": "execute_result"
    }
   ],
   "source": [
    "# print a summary of the fitted model\n",
    "lm.summary()"
   ]
  },
  {
   "cell_type": "code",
   "execution_count": 24,
   "metadata": {
    "collapsed": false
   },
   "outputs": [
    {
     "data": {
      "text/plain": [
       "0.57230000982996287"
      ]
     },
     "execution_count": 24,
     "metadata": {},
     "output_type": "execute_result"
    }
   ],
   "source": [
    "# only include X1 and X2 in the model\n",
    "lm = smf.ols(formula='X1 ~ X2', data=data).fit()\n",
    "lm.rsquared"
   ]
  },
  {
   "cell_type": "code",
   "execution_count": 9,
   "metadata": {
    "collapsed": false
   },
   "outputs": [
    {
     "data": {
      "text/plain": [
       "<matplotlib.collections.PathCollection at 0x10a7e7310>"
      ]
     },
     "execution_count": 9,
     "metadata": {},
     "output_type": "execute_result"
    },
    {
     "data": {
      "image/png": "[encoded data removed]",
      "text/plain": [
       "<matplotlib.figure.Figure at 0x10a5ad810>"
      ]
     },
     "metadata": {},
     "output_type": "display_data"
    }
   ],
   "source": [
    "%matplotlib inline\n",
    "plt.scatter(data.iloc[:,0], data.iloc[:,1])"
   ]
  },
  {
   "cell_type": "code",
   "execution_count": 79,
   "metadata": {
    "collapsed": false
   },
   "outputs": [],
   "source": [
    "alphas = np.arange(1,1000000,1000)\n",
    "ridmod = linear_model.RidgeCV(alphas=alphas, store_cv_values = True)\n",
    "lasmod = linear_model.LassoCV(alphas=alphas)"
   ]
  },
  {
   "cell_type": "code",
   "execution_count": 81,
   "metadata": {
    "collapsed": false
   },
   "outputs": [
    {
     "data": {
      "text/plain": [
       "LassoCV(alphas=array([     1,   1001, ..., 998001, 999001]), copy_X=True,\n",
       "    cv=None, eps=0.001, fit_intercept=True, max_iter=1000, n_alphas=100,\n",
       "    n_jobs=1, normalize=False, positive=False, precompute='auto',\n",
       "    random_state=None, selection='cyclic', tol=0.0001, verbose=False)"
      ]
     },
     "execution_count": 81,
     "metadata": {},
     "output_type": "execute_result"
    }
   ],
   "source": [
    "#ridmod.fit(data.iloc[:,1:], data.iloc[:,0])\n",
    "lasmod.fit(data.iloc[:,1:], data.iloc[:,0])"
   ]
  },
  {
   "cell_type": "code",
   "execution_count": 77,
   "metadata": {
    "collapsed": false
   },
   "outputs": [
    {
     "data": {
      "text/plain": [
       "array([ 0.36451587,  0.03368587, -0.00060758,  0.00994624, -0.00697129,\n",
       "        0.0004656 ])"
      ]
     },
     "execution_count": 77,
     "metadata": {},
     "output_type": "execute_result"
    }
   ],
   "source": [
    "ridmod.coef_"
   ]
  },
  {
   "cell_type": "code",
   "execution_count": 82,
   "metadata": {
    "collapsed": false
   },
   "outputs": [
    {
     "data": {
      "text/plain": [
       "array([ 0.38447067,  0.        ,  0.        ,  0.        , -0.        ,  0.        ])"
      ]
     },
     "execution_count": 82,
     "metadata": {},
     "output_type": "execute_result"
    }
   ],
   "source": [
    "lasmod.coef_"
   ]
  },
  {
   "cell_type": "code",
   "execution_count": 83,
   "metadata": {
    "collapsed": false
   },
   "outputs": [
    {
     "data": {
      "text/plain": [
       "1001"
      ]
     },
     "execution_count": 83,
     "metadata": {},
     "output_type": "execute_result"
    }
   ],
   "source": [
    "lasmod.alpha_"
   ]
  },
  {
   "cell_type": "code",
   "execution_count": 88,
   "metadata": {
    "collapsed": false
   },
   "outputs": [
    {
     "data": {
      "text/plain": [
       "array([   1, 1001, 2001, 3001, 4001, 5001, 6001, 7001, 8001, 9001])"
      ]
     },
     "execution_count": 88,
     "metadata": {},
     "output_type": "execute_result"
    }
   ],
   "source": [
    "alphas[:10]"
   ]
  },
  {
   "cell_type": "code",
   "execution_count": 89,
   "metadata": {
    "collapsed": false
   },
   "outputs": [
    {
     "data": {
      "text/plain": [
       "<Container object of 20 artists>"
      ]
     },
     "execution_count": 89,
     "metadata": {},
     "output_type": "execute_result"
    },
    {
     "data": {
      "image/png": "[encoded data removed]",
      "text/plain": [
       "<matplotlib.figure.Figure at 0x10c0ab990>"
      ]
     },
     "metadata": {},
     "output_type": "display_data"
    }
   ],
   "source": [
    "#plt.bar(alphas, np.mean(ridmod.cv_values_, axis=0))\n",
    "plt.bar(alphas[:20], np.mean(lasmod.mse_path_, axis=1)[:20])\n"
   ]
  },
  {
   "cell_type": "code",
   "execution_count": 91,
   "metadata": {
    "collapsed": false
   },
   "outputs": [
    {
     "data": {
      "text/plain": [
       "array([ 72980.91708477,  70540.72497008,  68202.39375277,  65965.92343287,\n",
       "        63831.31401036,  61798.56548524,  59867.67785752,  58038.65112719,\n",
       "        56311.48529426,  54686.18035873,  53162.73632058,  51741.15317984,\n",
       "        50421.43093649,  49203.56959053,  48087.56914197,  47073.4295908 ,\n",
       "        46161.15093703,  45350.73318066,  44642.17632168,  67620.73300395])"
      ]
     },
     "execution_count": 91,
     "metadata": {},
     "output_type": "execute_result"
    }
   ],
   "source": [
    "np.mean(lasmod.mse_path_, axis=1)[-20:]"
   ]
  },
  {
   "cell_type": "code",
   "execution_count": null,
   "metadata": {
    "collapsed": true
   },
   "outputs": [],
   "source": []
  }
 ],
 "metadata": {
  "kernelspec": {
   "display_name": "Python 2",
   "language": "python",
   "name": "python2"
  },
  "language_info": {
   "codemirror_mode": {
    "name": "ipython",
    "version": 2
   },
   "file_extension": ".py",
   "mimetype": "text/x-python",
   "name": "python",
   "nbconvert_exporter": "python",
   "pygments_lexer": "ipython2",
   "version": "2.7.11"
  }
 },
 "nbformat": 4,
 "nbformat_minor": 0
}
